{
 "cells": [
  {
   "cell_type": "code",
   "execution_count": 1,
   "id": "996bbef3",
   "metadata": {},
   "outputs": [],
   "source": [
    "import numpy as np\n",
    "import pandas as pd\n",
    "import matplotlib.pyplot as plt\n",
    "import seaborn as sns"
   ]
  },
  {
   "cell_type": "markdown",
   "id": "49f3b8fa",
   "metadata": {},
   "source": [
    "## 1. Read the dataset to python environment"
   ]
  },
  {
   "cell_type": "code",
   "execution_count": 2,
   "id": "562a60d7",
   "metadata": {},
   "outputs": [
    {
     "data": {
      "text/html": [
       "<div>\n",
       "<style scoped>\n",
       "    .dataframe tbody tr th:only-of-type {\n",
       "        vertical-align: middle;\n",
       "    }\n",
       "\n",
       "    .dataframe tbody tr th {\n",
       "        vertical-align: top;\n",
       "    }\n",
       "\n",
       "    .dataframe thead th {\n",
       "        text-align: right;\n",
       "    }\n",
       "</style>\n",
       "<table border=\"1\" class=\"dataframe\">\n",
       "  <thead>\n",
       "    <tr style=\"text-align: right;\">\n",
       "      <th></th>\n",
       "      <th>SL</th>\n",
       "      <th>SW</th>\n",
       "      <th>PL</th>\n",
       "      <th>PW</th>\n",
       "      <th>Classification</th>\n",
       "    </tr>\n",
       "  </thead>\n",
       "  <tbody>\n",
       "    <tr>\n",
       "      <th>0</th>\n",
       "      <td>5.1</td>\n",
       "      <td>3.5</td>\n",
       "      <td>1.4</td>\n",
       "      <td>0.2</td>\n",
       "      <td>Iris-setosa</td>\n",
       "    </tr>\n",
       "    <tr>\n",
       "      <th>1</th>\n",
       "      <td>4.9</td>\n",
       "      <td>3.0</td>\n",
       "      <td>1.4</td>\n",
       "      <td>0.2</td>\n",
       "      <td>Iris-setosa</td>\n",
       "    </tr>\n",
       "    <tr>\n",
       "      <th>2</th>\n",
       "      <td>NaN</td>\n",
       "      <td>3.2</td>\n",
       "      <td>1.3</td>\n",
       "      <td>0.2</td>\n",
       "      <td>Iris-setosa</td>\n",
       "    </tr>\n",
       "    <tr>\n",
       "      <th>3</th>\n",
       "      <td>4.6</td>\n",
       "      <td>3.1</td>\n",
       "      <td>1.5</td>\n",
       "      <td>0.2</td>\n",
       "      <td>Iris-setosa</td>\n",
       "    </tr>\n",
       "    <tr>\n",
       "      <th>4</th>\n",
       "      <td>5.0</td>\n",
       "      <td>3.6</td>\n",
       "      <td>1.4</td>\n",
       "      <td>0.2</td>\n",
       "      <td>Iris-setosa</td>\n",
       "    </tr>\n",
       "  </tbody>\n",
       "</table>\n",
       "</div>"
      ],
      "text/plain": [
       "    SL   SW   PL   PW Classification\n",
       "0  5.1  3.5  1.4  0.2    Iris-setosa\n",
       "1  4.9  3.0  1.4  0.2    Iris-setosa\n",
       "2  NaN  3.2  1.3  0.2    Iris-setosa\n",
       "3  4.6  3.1  1.5  0.2    Iris-setosa\n",
       "4  5.0  3.6  1.4  0.2    Iris-setosa"
      ]
     },
     "execution_count": 2,
     "metadata": {},
     "output_type": "execute_result"
    }
   ],
   "source": [
    "data=pd.read_excel('iris.xls')\n",
    "data.head()"
   ]
  },
  {
   "cell_type": "code",
   "execution_count": 3,
   "id": "fa7944fc",
   "metadata": {},
   "outputs": [
    {
     "name": "stdout",
     "output_type": "stream",
     "text": [
      "<class 'pandas.core.frame.DataFrame'>\n",
      "RangeIndex: 150 entries, 0 to 149\n",
      "Data columns (total 5 columns):\n",
      " #   Column          Non-Null Count  Dtype  \n",
      "---  ------          --------------  -----  \n",
      " 0   SL              143 non-null    float64\n",
      " 1   SW              144 non-null    float64\n",
      " 2   PL              144 non-null    float64\n",
      " 3   PW              150 non-null    float64\n",
      " 4   Classification  150 non-null    object \n",
      "dtypes: float64(4), object(1)\n",
      "memory usage: 6.0+ KB\n"
     ]
    }
   ],
   "source": [
    "data.info()"
   ]
  },
  {
   "cell_type": "code",
   "execution_count": 4,
   "id": "44e48cd6",
   "metadata": {},
   "outputs": [
    {
     "data": {
      "text/plain": [
       "SL                7\n",
       "SW                6\n",
       "PL                6\n",
       "PW                0\n",
       "Classification    0\n",
       "dtype: int64"
      ]
     },
     "execution_count": 4,
     "metadata": {},
     "output_type": "execute_result"
    }
   ],
   "source": [
    "data.isna().sum()"
   ]
  },
  {
   "cell_type": "markdown",
   "id": "6c0cde01",
   "metadata": {},
   "source": [
    "## 2. Do the necessary pre-processing steps"
   ]
  },
  {
   "cell_type": "code",
   "execution_count": 5,
   "id": "a4df7b5e",
   "metadata": {},
   "outputs": [],
   "source": [
    "## missing values of SL and SW are replace using median"
   ]
  },
  {
   "cell_type": "code",
   "execution_count": 6,
   "id": "b99e4ae5",
   "metadata": {},
   "outputs": [
    {
     "data": {
      "text/plain": [
       "Index(['SL', 'SW', 'PL', 'PW', 'Classification'], dtype='object')"
      ]
     },
     "execution_count": 6,
     "metadata": {},
     "output_type": "execute_result"
    }
   ],
   "source": [
    "data.columns"
   ]
  },
  {
   "cell_type": "code",
   "execution_count": 7,
   "id": "d723ac7d",
   "metadata": {},
   "outputs": [],
   "source": [
    "for col in ['SL', 'SW','PL']:\n",
    "    data[col]=data[col].fillna(data[col].median())"
   ]
  },
  {
   "cell_type": "code",
   "execution_count": 8,
   "id": "ddba76c0",
   "metadata": {},
   "outputs": [
    {
     "data": {
      "text/plain": [
       "SL                0\n",
       "SW                0\n",
       "PL                0\n",
       "PW                0\n",
       "Classification    0\n",
       "dtype: int64"
      ]
     },
     "execution_count": 8,
     "metadata": {},
     "output_type": "execute_result"
    }
   ],
   "source": [
    "data.isna().sum()"
   ]
  },
  {
   "cell_type": "code",
   "execution_count": 9,
   "id": "0d846bfa",
   "metadata": {},
   "outputs": [
    {
     "data": {
      "text/plain": [
       "array(['Iris-setosa', 'Iris-versicolor', 'Iris-virginica'], dtype=object)"
      ]
     },
     "execution_count": 9,
     "metadata": {},
     "output_type": "execute_result"
    }
   ],
   "source": [
    "data['Classification'].unique()"
   ]
  },
  {
   "cell_type": "code",
   "execution_count": 10,
   "id": "8939765a",
   "metadata": {},
   "outputs": [],
   "source": [
    "## here only 3 type of unique values are present.so we can use one hot end coding to convert categorical values type data into numerical"
   ]
  },
  {
   "cell_type": "code",
   "execution_count": 11,
   "id": "33f77c77",
   "metadata": {},
   "outputs": [
    {
     "data": {
      "text/plain": [
       "(150, 5)"
      ]
     },
     "execution_count": 11,
     "metadata": {},
     "output_type": "execute_result"
    }
   ],
   "source": [
    "data.shape"
   ]
  },
  {
   "cell_type": "code",
   "execution_count": 12,
   "id": "5fc9be55",
   "metadata": {},
   "outputs": [],
   "source": [
    "data1=pd.get_dummies(data)"
   ]
  },
  {
   "cell_type": "code",
   "execution_count": 13,
   "id": "8e357459",
   "metadata": {},
   "outputs": [
    {
     "data": {
      "text/plain": [
       "(150, 7)"
      ]
     },
     "execution_count": 13,
     "metadata": {},
     "output_type": "execute_result"
    }
   ],
   "source": [
    "data1.shape"
   ]
  },
  {
   "cell_type": "code",
   "execution_count": 14,
   "id": "88836965",
   "metadata": {},
   "outputs": [
    {
     "data": {
      "text/plain": [
       "pandas.core.frame.DataFrame"
      ]
     },
     "execution_count": 14,
     "metadata": {},
     "output_type": "execute_result"
    }
   ],
   "source": [
    "type(data1)"
   ]
  },
  {
   "cell_type": "code",
   "execution_count": 15,
   "id": "2931f9e5",
   "metadata": {},
   "outputs": [
    {
     "data": {
      "text/html": [
       "<div>\n",
       "<style scoped>\n",
       "    .dataframe tbody tr th:only-of-type {\n",
       "        vertical-align: middle;\n",
       "    }\n",
       "\n",
       "    .dataframe tbody tr th {\n",
       "        vertical-align: top;\n",
       "    }\n",
       "\n",
       "    .dataframe thead th {\n",
       "        text-align: right;\n",
       "    }\n",
       "</style>\n",
       "<table border=\"1\" class=\"dataframe\">\n",
       "  <thead>\n",
       "    <tr style=\"text-align: right;\">\n",
       "      <th></th>\n",
       "      <th>SL</th>\n",
       "      <th>SW</th>\n",
       "      <th>PL</th>\n",
       "      <th>PW</th>\n",
       "      <th>Classification_Iris-setosa</th>\n",
       "      <th>Classification_Iris-versicolor</th>\n",
       "      <th>Classification_Iris-virginica</th>\n",
       "    </tr>\n",
       "  </thead>\n",
       "  <tbody>\n",
       "    <tr>\n",
       "      <th>count</th>\n",
       "      <td>150.000000</td>\n",
       "      <td>150.000000</td>\n",
       "      <td>150.000000</td>\n",
       "      <td>150.000000</td>\n",
       "      <td>150.000000</td>\n",
       "      <td>150.000000</td>\n",
       "      <td>150.000000</td>\n",
       "    </tr>\n",
       "    <tr>\n",
       "      <th>mean</th>\n",
       "      <td>5.853333</td>\n",
       "      <td>3.047333</td>\n",
       "      <td>3.780000</td>\n",
       "      <td>1.198667</td>\n",
       "      <td>0.333333</td>\n",
       "      <td>0.333333</td>\n",
       "      <td>0.333333</td>\n",
       "    </tr>\n",
       "    <tr>\n",
       "      <th>std</th>\n",
       "      <td>0.808567</td>\n",
       "      <td>0.421995</td>\n",
       "      <td>1.729424</td>\n",
       "      <td>0.763161</td>\n",
       "      <td>0.472984</td>\n",
       "      <td>0.472984</td>\n",
       "      <td>0.472984</td>\n",
       "    </tr>\n",
       "    <tr>\n",
       "      <th>min</th>\n",
       "      <td>4.300000</td>\n",
       "      <td>2.000000</td>\n",
       "      <td>1.000000</td>\n",
       "      <td>0.100000</td>\n",
       "      <td>0.000000</td>\n",
       "      <td>0.000000</td>\n",
       "      <td>0.000000</td>\n",
       "    </tr>\n",
       "    <tr>\n",
       "      <th>25%</th>\n",
       "      <td>5.200000</td>\n",
       "      <td>2.800000</td>\n",
       "      <td>1.600000</td>\n",
       "      <td>0.300000</td>\n",
       "      <td>0.000000</td>\n",
       "      <td>0.000000</td>\n",
       "      <td>0.000000</td>\n",
       "    </tr>\n",
       "    <tr>\n",
       "      <th>50%</th>\n",
       "      <td>5.800000</td>\n",
       "      <td>3.000000</td>\n",
       "      <td>4.350000</td>\n",
       "      <td>1.300000</td>\n",
       "      <td>0.000000</td>\n",
       "      <td>0.000000</td>\n",
       "      <td>0.000000</td>\n",
       "    </tr>\n",
       "    <tr>\n",
       "      <th>75%</th>\n",
       "      <td>6.400000</td>\n",
       "      <td>3.275000</td>\n",
       "      <td>5.100000</td>\n",
       "      <td>1.800000</td>\n",
       "      <td>1.000000</td>\n",
       "      <td>1.000000</td>\n",
       "      <td>1.000000</td>\n",
       "    </tr>\n",
       "    <tr>\n",
       "      <th>max</th>\n",
       "      <td>7.900000</td>\n",
       "      <td>4.400000</td>\n",
       "      <td>6.900000</td>\n",
       "      <td>2.500000</td>\n",
       "      <td>1.000000</td>\n",
       "      <td>1.000000</td>\n",
       "      <td>1.000000</td>\n",
       "    </tr>\n",
       "  </tbody>\n",
       "</table>\n",
       "</div>"
      ],
      "text/plain": [
       "               SL          SW          PL          PW  \\\n",
       "count  150.000000  150.000000  150.000000  150.000000   \n",
       "mean     5.853333    3.047333    3.780000    1.198667   \n",
       "std      0.808567    0.421995    1.729424    0.763161   \n",
       "min      4.300000    2.000000    1.000000    0.100000   \n",
       "25%      5.200000    2.800000    1.600000    0.300000   \n",
       "50%      5.800000    3.000000    4.350000    1.300000   \n",
       "75%      6.400000    3.275000    5.100000    1.800000   \n",
       "max      7.900000    4.400000    6.900000    2.500000   \n",
       "\n",
       "       Classification_Iris-setosa  Classification_Iris-versicolor  \\\n",
       "count                  150.000000                      150.000000   \n",
       "mean                     0.333333                        0.333333   \n",
       "std                      0.472984                        0.472984   \n",
       "min                      0.000000                        0.000000   \n",
       "25%                      0.000000                        0.000000   \n",
       "50%                      0.000000                        0.000000   \n",
       "75%                      1.000000                        1.000000   \n",
       "max                      1.000000                        1.000000   \n",
       "\n",
       "       Classification_Iris-virginica  \n",
       "count                     150.000000  \n",
       "mean                        0.333333  \n",
       "std                         0.472984  \n",
       "min                         0.000000  \n",
       "25%                         0.000000  \n",
       "50%                         0.000000  \n",
       "75%                         1.000000  \n",
       "max                         1.000000  "
      ]
     },
     "execution_count": 15,
     "metadata": {},
     "output_type": "execute_result"
    }
   ],
   "source": [
    "data1.describe()"
   ]
  },
  {
   "cell_type": "code",
   "execution_count": 16,
   "id": "94cd02c8",
   "metadata": {},
   "outputs": [],
   "source": [
    "from sklearn import preprocessing"
   ]
  },
  {
   "cell_type": "code",
   "execution_count": 17,
   "id": "a6163093",
   "metadata": {},
   "outputs": [],
   "source": [
    "## spliting into features and target"
   ]
  },
  {
   "cell_type": "code",
   "execution_count": 18,
   "id": "226f4191",
   "metadata": {},
   "outputs": [],
   "source": [
    "X=data1.drop('Classification_Iris-setosa',axis=1)\n",
    "y=data1['Classification_Iris-setosa']"
   ]
  },
  {
   "cell_type": "code",
   "execution_count": 19,
   "id": "55aee013",
   "metadata": {},
   "outputs": [],
   "source": [
    "from sklearn.model_selection import train_test_split "
   ]
  },
  {
   "cell_type": "code",
   "execution_count": 20,
   "id": "7bdc991c",
   "metadata": {},
   "outputs": [],
   "source": [
    "X_train,X_test,y_train,y_test=train_test_split(X,y,random_state=42,test_size=0.2)"
   ]
  },
  {
   "cell_type": "code",
   "execution_count": 21,
   "id": "98c5c2c4",
   "metadata": {},
   "outputs": [],
   "source": [
    "from sklearn.linear_model import LinearRegression"
   ]
  },
  {
   "cell_type": "code",
   "execution_count": 22,
   "id": "08a78c18",
   "metadata": {},
   "outputs": [
    {
     "data": {
      "text/html": [
       "<div>\n",
       "<style scoped>\n",
       "    .dataframe tbody tr th:only-of-type {\n",
       "        vertical-align: middle;\n",
       "    }\n",
       "\n",
       "    .dataframe tbody tr th {\n",
       "        vertical-align: top;\n",
       "    }\n",
       "\n",
       "    .dataframe thead th {\n",
       "        text-align: right;\n",
       "    }\n",
       "</style>\n",
       "<table border=\"1\" class=\"dataframe\">\n",
       "  <thead>\n",
       "    <tr style=\"text-align: right;\">\n",
       "      <th></th>\n",
       "      <th>SL</th>\n",
       "      <th>SW</th>\n",
       "      <th>PL</th>\n",
       "      <th>PW</th>\n",
       "      <th>Classification_Iris-setosa</th>\n",
       "      <th>Classification_Iris-versicolor</th>\n",
       "      <th>Classification_Iris-virginica</th>\n",
       "    </tr>\n",
       "  </thead>\n",
       "  <tbody>\n",
       "    <tr>\n",
       "      <th>0</th>\n",
       "      <td>5.1</td>\n",
       "      <td>3.5</td>\n",
       "      <td>1.4</td>\n",
       "      <td>0.2</td>\n",
       "      <td>1</td>\n",
       "      <td>0</td>\n",
       "      <td>0</td>\n",
       "    </tr>\n",
       "    <tr>\n",
       "      <th>1</th>\n",
       "      <td>4.9</td>\n",
       "      <td>3.0</td>\n",
       "      <td>1.4</td>\n",
       "      <td>0.2</td>\n",
       "      <td>1</td>\n",
       "      <td>0</td>\n",
       "      <td>0</td>\n",
       "    </tr>\n",
       "    <tr>\n",
       "      <th>2</th>\n",
       "      <td>5.8</td>\n",
       "      <td>3.2</td>\n",
       "      <td>1.3</td>\n",
       "      <td>0.2</td>\n",
       "      <td>1</td>\n",
       "      <td>0</td>\n",
       "      <td>0</td>\n",
       "    </tr>\n",
       "    <tr>\n",
       "      <th>3</th>\n",
       "      <td>4.6</td>\n",
       "      <td>3.1</td>\n",
       "      <td>1.5</td>\n",
       "      <td>0.2</td>\n",
       "      <td>1</td>\n",
       "      <td>0</td>\n",
       "      <td>0</td>\n",
       "    </tr>\n",
       "    <tr>\n",
       "      <th>4</th>\n",
       "      <td>5.0</td>\n",
       "      <td>3.6</td>\n",
       "      <td>1.4</td>\n",
       "      <td>0.2</td>\n",
       "      <td>1</td>\n",
       "      <td>0</td>\n",
       "      <td>0</td>\n",
       "    </tr>\n",
       "  </tbody>\n",
       "</table>\n",
       "</div>"
      ],
      "text/plain": [
       "    SL   SW   PL   PW  Classification_Iris-setosa  \\\n",
       "0  5.1  3.5  1.4  0.2                           1   \n",
       "1  4.9  3.0  1.4  0.2                           1   \n",
       "2  5.8  3.2  1.3  0.2                           1   \n",
       "3  4.6  3.1  1.5  0.2                           1   \n",
       "4  5.0  3.6  1.4  0.2                           1   \n",
       "\n",
       "   Classification_Iris-versicolor  Classification_Iris-virginica  \n",
       "0                               0                              0  \n",
       "1                               0                              0  \n",
       "2                               0                              0  \n",
       "3                               0                              0  \n",
       "4                               0                              0  "
      ]
     },
     "execution_count": 22,
     "metadata": {},
     "output_type": "execute_result"
    }
   ],
   "source": [
    "data1.head()"
   ]
  },
  {
   "cell_type": "code",
   "execution_count": 23,
   "id": "59f0f527",
   "metadata": {},
   "outputs": [
    {
     "data": {
      "text/plain": [
       "Index(['SL', 'SW', 'PL', 'PW', 'Classification_Iris-setosa',\n",
       "       'Classification_Iris-versicolor', 'Classification_Iris-virginica'],\n",
       "      dtype='object')"
      ]
     },
     "execution_count": 23,
     "metadata": {},
     "output_type": "execute_result"
    }
   ],
   "source": [
    "data1.columns"
   ]
  },
  {
   "cell_type": "code",
   "execution_count": 24,
   "id": "8152f3d7",
   "metadata": {
    "scrolled": true
   },
   "outputs": [
    {
     "data": {
      "text/html": [
       "<div>\n",
       "<style scoped>\n",
       "    .dataframe tbody tr th:only-of-type {\n",
       "        vertical-align: middle;\n",
       "    }\n",
       "\n",
       "    .dataframe tbody tr th {\n",
       "        vertical-align: top;\n",
       "    }\n",
       "\n",
       "    .dataframe thead th {\n",
       "        text-align: right;\n",
       "    }\n",
       "</style>\n",
       "<table border=\"1\" class=\"dataframe\">\n",
       "  <thead>\n",
       "    <tr style=\"text-align: right;\">\n",
       "      <th></th>\n",
       "      <th>SL</th>\n",
       "      <th>SW</th>\n",
       "      <th>PL</th>\n",
       "      <th>PW</th>\n",
       "      <th>Classification_Iris-setosa</th>\n",
       "    </tr>\n",
       "  </thead>\n",
       "  <tbody>\n",
       "    <tr>\n",
       "      <th>0</th>\n",
       "      <td>5.1</td>\n",
       "      <td>3.5</td>\n",
       "      <td>1.4</td>\n",
       "      <td>0.2</td>\n",
       "      <td>1</td>\n",
       "    </tr>\n",
       "    <tr>\n",
       "      <th>1</th>\n",
       "      <td>4.9</td>\n",
       "      <td>3.0</td>\n",
       "      <td>1.4</td>\n",
       "      <td>0.2</td>\n",
       "      <td>1</td>\n",
       "    </tr>\n",
       "    <tr>\n",
       "      <th>2</th>\n",
       "      <td>5.8</td>\n",
       "      <td>3.2</td>\n",
       "      <td>1.3</td>\n",
       "      <td>0.2</td>\n",
       "      <td>1</td>\n",
       "    </tr>\n",
       "    <tr>\n",
       "      <th>3</th>\n",
       "      <td>4.6</td>\n",
       "      <td>3.1</td>\n",
       "      <td>1.5</td>\n",
       "      <td>0.2</td>\n",
       "      <td>1</td>\n",
       "    </tr>\n",
       "    <tr>\n",
       "      <th>4</th>\n",
       "      <td>5.0</td>\n",
       "      <td>3.6</td>\n",
       "      <td>1.4</td>\n",
       "      <td>0.2</td>\n",
       "      <td>1</td>\n",
       "    </tr>\n",
       "  </tbody>\n",
       "</table>\n",
       "</div>"
      ],
      "text/plain": [
       "    SL   SW   PL   PW  Classification_Iris-setosa\n",
       "0  5.1  3.5  1.4  0.2                           1\n",
       "1  4.9  3.0  1.4  0.2                           1\n",
       "2  5.8  3.2  1.3  0.2                           1\n",
       "3  4.6  3.1  1.5  0.2                           1\n",
       "4  5.0  3.6  1.4  0.2                           1"
      ]
     },
     "execution_count": 24,
     "metadata": {},
     "output_type": "execute_result"
    }
   ],
   "source": [
    "data2=data1.drop(['Classification_Iris-versicolor', 'Classification_Iris-virginica'],axis=1)\n",
    "data2.head()"
   ]
  },
  {
   "cell_type": "code",
   "execution_count": 25,
   "id": "20841be6",
   "metadata": {},
   "outputs": [],
   "source": [
    "X=data1.drop('Classification_Iris-setosa',axis=1)\n",
    "y=data1['Classification_Iris-setosa']"
   ]
  },
  {
   "cell_type": "code",
   "execution_count": 26,
   "id": "8d0fc3cb",
   "metadata": {},
   "outputs": [],
   "source": [
    "X_train,X_test,y_train,y_test=train_test_split(X,y,random_state=42,test_size=0.2)"
   ]
  },
  {
   "cell_type": "code",
   "execution_count": 27,
   "id": "9c1272bc",
   "metadata": {},
   "outputs": [],
   "source": [
    "lin_reg=LinearRegression()\n",
    "model=lin_reg.fit(X_train,y_train)\n",
    "prediction=model.predict(X_test)"
   ]
  },
  {
   "cell_type": "code",
   "execution_count": 28,
   "id": "b1f8012d",
   "metadata": {},
   "outputs": [],
   "source": [
    "from sklearn.metrics import mean_squared_error,r2_score"
   ]
  },
  {
   "cell_type": "code",
   "execution_count": 29,
   "id": "78c4423e",
   "metadata": {},
   "outputs": [
    {
     "name": "stdout",
     "output_type": "stream",
     "text": [
      "The MSE value is: 2.3008443068946178e-32\n",
      "The r squared value is: 1.0\n"
     ]
    }
   ],
   "source": [
    "print('The MSE value is:',mean_squared_error(y_test,prediction))\n",
    "print('The r squared value is:',r2_score(y_test,prediction))"
   ]
  },
  {
   "cell_type": "code",
   "execution_count": 30,
   "id": "0606fe2a",
   "metadata": {},
   "outputs": [],
   "source": [
    "## here mse is very large. so we can use scaling method\n",
    "## using MinMaxScaling "
   ]
  },
  {
   "cell_type": "code",
   "execution_count": 31,
   "id": "f2239e8b",
   "metadata": {},
   "outputs": [
    {
     "data": {
      "text/html": [
       "<div>\n",
       "<style scoped>\n",
       "    .dataframe tbody tr th:only-of-type {\n",
       "        vertical-align: middle;\n",
       "    }\n",
       "\n",
       "    .dataframe tbody tr th {\n",
       "        vertical-align: top;\n",
       "    }\n",
       "\n",
       "    .dataframe thead th {\n",
       "        text-align: right;\n",
       "    }\n",
       "</style>\n",
       "<table border=\"1\" class=\"dataframe\">\n",
       "  <thead>\n",
       "    <tr style=\"text-align: right;\">\n",
       "      <th></th>\n",
       "      <th>SL</th>\n",
       "      <th>SW</th>\n",
       "      <th>PL</th>\n",
       "      <th>PW</th>\n",
       "      <th>Classification_Iris-setosa</th>\n",
       "      <th>Classification_Iris-versicolor</th>\n",
       "      <th>Classification_Iris-virginica</th>\n",
       "    </tr>\n",
       "  </thead>\n",
       "  <tbody>\n",
       "    <tr>\n",
       "      <th>count</th>\n",
       "      <td>150.000000</td>\n",
       "      <td>150.000000</td>\n",
       "      <td>150.000000</td>\n",
       "      <td>150.000000</td>\n",
       "      <td>150.000000</td>\n",
       "      <td>150.000000</td>\n",
       "      <td>150.000000</td>\n",
       "    </tr>\n",
       "    <tr>\n",
       "      <th>mean</th>\n",
       "      <td>5.853333</td>\n",
       "      <td>3.047333</td>\n",
       "      <td>3.780000</td>\n",
       "      <td>1.198667</td>\n",
       "      <td>0.333333</td>\n",
       "      <td>0.333333</td>\n",
       "      <td>0.333333</td>\n",
       "    </tr>\n",
       "    <tr>\n",
       "      <th>std</th>\n",
       "      <td>0.808567</td>\n",
       "      <td>0.421995</td>\n",
       "      <td>1.729424</td>\n",
       "      <td>0.763161</td>\n",
       "      <td>0.472984</td>\n",
       "      <td>0.472984</td>\n",
       "      <td>0.472984</td>\n",
       "    </tr>\n",
       "    <tr>\n",
       "      <th>min</th>\n",
       "      <td>4.300000</td>\n",
       "      <td>2.000000</td>\n",
       "      <td>1.000000</td>\n",
       "      <td>0.100000</td>\n",
       "      <td>0.000000</td>\n",
       "      <td>0.000000</td>\n",
       "      <td>0.000000</td>\n",
       "    </tr>\n",
       "    <tr>\n",
       "      <th>25%</th>\n",
       "      <td>5.200000</td>\n",
       "      <td>2.800000</td>\n",
       "      <td>1.600000</td>\n",
       "      <td>0.300000</td>\n",
       "      <td>0.000000</td>\n",
       "      <td>0.000000</td>\n",
       "      <td>0.000000</td>\n",
       "    </tr>\n",
       "    <tr>\n",
       "      <th>50%</th>\n",
       "      <td>5.800000</td>\n",
       "      <td>3.000000</td>\n",
       "      <td>4.350000</td>\n",
       "      <td>1.300000</td>\n",
       "      <td>0.000000</td>\n",
       "      <td>0.000000</td>\n",
       "      <td>0.000000</td>\n",
       "    </tr>\n",
       "    <tr>\n",
       "      <th>75%</th>\n",
       "      <td>6.400000</td>\n",
       "      <td>3.275000</td>\n",
       "      <td>5.100000</td>\n",
       "      <td>1.800000</td>\n",
       "      <td>1.000000</td>\n",
       "      <td>1.000000</td>\n",
       "      <td>1.000000</td>\n",
       "    </tr>\n",
       "    <tr>\n",
       "      <th>max</th>\n",
       "      <td>7.900000</td>\n",
       "      <td>4.400000</td>\n",
       "      <td>6.900000</td>\n",
       "      <td>2.500000</td>\n",
       "      <td>1.000000</td>\n",
       "      <td>1.000000</td>\n",
       "      <td>1.000000</td>\n",
       "    </tr>\n",
       "  </tbody>\n",
       "</table>\n",
       "</div>"
      ],
      "text/plain": [
       "               SL          SW          PL          PW  \\\n",
       "count  150.000000  150.000000  150.000000  150.000000   \n",
       "mean     5.853333    3.047333    3.780000    1.198667   \n",
       "std      0.808567    0.421995    1.729424    0.763161   \n",
       "min      4.300000    2.000000    1.000000    0.100000   \n",
       "25%      5.200000    2.800000    1.600000    0.300000   \n",
       "50%      5.800000    3.000000    4.350000    1.300000   \n",
       "75%      6.400000    3.275000    5.100000    1.800000   \n",
       "max      7.900000    4.400000    6.900000    2.500000   \n",
       "\n",
       "       Classification_Iris-setosa  Classification_Iris-versicolor  \\\n",
       "count                  150.000000                      150.000000   \n",
       "mean                     0.333333                        0.333333   \n",
       "std                      0.472984                        0.472984   \n",
       "min                      0.000000                        0.000000   \n",
       "25%                      0.000000                        0.000000   \n",
       "50%                      0.000000                        0.000000   \n",
       "75%                      1.000000                        1.000000   \n",
       "max                      1.000000                        1.000000   \n",
       "\n",
       "       Classification_Iris-virginica  \n",
       "count                     150.000000  \n",
       "mean                        0.333333  \n",
       "std                         0.472984  \n",
       "min                         0.000000  \n",
       "25%                         0.000000  \n",
       "50%                         0.000000  \n",
       "75%                         1.000000  \n",
       "max                         1.000000  "
      ]
     },
     "execution_count": 31,
     "metadata": {},
     "output_type": "execute_result"
    }
   ],
   "source": [
    "data1.describe()"
   ]
  },
  {
   "cell_type": "code",
   "execution_count": 32,
   "id": "51322849",
   "metadata": {},
   "outputs": [],
   "source": [
    "X1=X.drop(['Classification_Iris-versicolor', 'Classification_Iris-virginica'],axis=1)"
   ]
  },
  {
   "cell_type": "code",
   "execution_count": 33,
   "id": "0cffe6c7",
   "metadata": {},
   "outputs": [
    {
     "data": {
      "text/html": [
       "<div>\n",
       "<style scoped>\n",
       "    .dataframe tbody tr th:only-of-type {\n",
       "        vertical-align: middle;\n",
       "    }\n",
       "\n",
       "    .dataframe tbody tr th {\n",
       "        vertical-align: top;\n",
       "    }\n",
       "\n",
       "    .dataframe thead th {\n",
       "        text-align: right;\n",
       "    }\n",
       "</style>\n",
       "<table border=\"1\" class=\"dataframe\">\n",
       "  <thead>\n",
       "    <tr style=\"text-align: right;\">\n",
       "      <th></th>\n",
       "      <th>SL</th>\n",
       "      <th>SW</th>\n",
       "      <th>PL</th>\n",
       "      <th>PW</th>\n",
       "    </tr>\n",
       "  </thead>\n",
       "  <tbody>\n",
       "    <tr>\n",
       "      <th>0</th>\n",
       "      <td>5.1</td>\n",
       "      <td>3.5</td>\n",
       "      <td>1.4</td>\n",
       "      <td>0.2</td>\n",
       "    </tr>\n",
       "    <tr>\n",
       "      <th>1</th>\n",
       "      <td>4.9</td>\n",
       "      <td>3.0</td>\n",
       "      <td>1.4</td>\n",
       "      <td>0.2</td>\n",
       "    </tr>\n",
       "    <tr>\n",
       "      <th>2</th>\n",
       "      <td>5.8</td>\n",
       "      <td>3.2</td>\n",
       "      <td>1.3</td>\n",
       "      <td>0.2</td>\n",
       "    </tr>\n",
       "    <tr>\n",
       "      <th>3</th>\n",
       "      <td>4.6</td>\n",
       "      <td>3.1</td>\n",
       "      <td>1.5</td>\n",
       "      <td>0.2</td>\n",
       "    </tr>\n",
       "    <tr>\n",
       "      <th>4</th>\n",
       "      <td>5.0</td>\n",
       "      <td>3.6</td>\n",
       "      <td>1.4</td>\n",
       "      <td>0.2</td>\n",
       "    </tr>\n",
       "  </tbody>\n",
       "</table>\n",
       "</div>"
      ],
      "text/plain": [
       "    SL   SW   PL   PW\n",
       "0  5.1  3.5  1.4  0.2\n",
       "1  4.9  3.0  1.4  0.2\n",
       "2  5.8  3.2  1.3  0.2\n",
       "3  4.6  3.1  1.5  0.2\n",
       "4  5.0  3.6  1.4  0.2"
      ]
     },
     "execution_count": 33,
     "metadata": {},
     "output_type": "execute_result"
    }
   ],
   "source": [
    "X1.head()"
   ]
  },
  {
   "cell_type": "code",
   "execution_count": 34,
   "id": "4061db49",
   "metadata": {},
   "outputs": [],
   "source": [
    "min_max_scaler=preprocessing.MinMaxScaler(feature_range=(0,1))"
   ]
  },
  {
   "cell_type": "code",
   "execution_count": 35,
   "id": "2bb23c08",
   "metadata": {},
   "outputs": [],
   "source": [
    "X1=min_max_scaler.fit_transform(X1)"
   ]
  },
  {
   "cell_type": "code",
   "execution_count": 36,
   "id": "495d30a4",
   "metadata": {},
   "outputs": [
    {
     "data": {
      "text/plain": [
       "numpy.ndarray"
      ]
     },
     "execution_count": 36,
     "metadata": {},
     "output_type": "execute_result"
    }
   ],
   "source": [
    "type(X1)"
   ]
  },
  {
   "cell_type": "code",
   "execution_count": 37,
   "id": "f1f82f0d",
   "metadata": {},
   "outputs": [
    {
     "data": {
      "text/html": [
       "<div>\n",
       "<style scoped>\n",
       "    .dataframe tbody tr th:only-of-type {\n",
       "        vertical-align: middle;\n",
       "    }\n",
       "\n",
       "    .dataframe tbody tr th {\n",
       "        vertical-align: top;\n",
       "    }\n",
       "\n",
       "    .dataframe thead th {\n",
       "        text-align: right;\n",
       "    }\n",
       "</style>\n",
       "<table border=\"1\" class=\"dataframe\">\n",
       "  <thead>\n",
       "    <tr style=\"text-align: right;\">\n",
       "      <th></th>\n",
       "      <th>SL</th>\n",
       "      <th>SW</th>\n",
       "      <th>PL</th>\n",
       "      <th>PW</th>\n",
       "    </tr>\n",
       "  </thead>\n",
       "  <tbody>\n",
       "    <tr>\n",
       "      <th>0</th>\n",
       "      <td>0.222222</td>\n",
       "      <td>0.625000</td>\n",
       "      <td>0.067797</td>\n",
       "      <td>0.041667</td>\n",
       "    </tr>\n",
       "    <tr>\n",
       "      <th>1</th>\n",
       "      <td>0.166667</td>\n",
       "      <td>0.416667</td>\n",
       "      <td>0.067797</td>\n",
       "      <td>0.041667</td>\n",
       "    </tr>\n",
       "    <tr>\n",
       "      <th>2</th>\n",
       "      <td>0.416667</td>\n",
       "      <td>0.500000</td>\n",
       "      <td>0.050847</td>\n",
       "      <td>0.041667</td>\n",
       "    </tr>\n",
       "    <tr>\n",
       "      <th>3</th>\n",
       "      <td>0.083333</td>\n",
       "      <td>0.458333</td>\n",
       "      <td>0.084746</td>\n",
       "      <td>0.041667</td>\n",
       "    </tr>\n",
       "    <tr>\n",
       "      <th>4</th>\n",
       "      <td>0.194444</td>\n",
       "      <td>0.666667</td>\n",
       "      <td>0.067797</td>\n",
       "      <td>0.041667</td>\n",
       "    </tr>\n",
       "  </tbody>\n",
       "</table>\n",
       "</div>"
      ],
      "text/plain": [
       "         SL        SW        PL        PW\n",
       "0  0.222222  0.625000  0.067797  0.041667\n",
       "1  0.166667  0.416667  0.067797  0.041667\n",
       "2  0.416667  0.500000  0.050847  0.041667\n",
       "3  0.083333  0.458333  0.084746  0.041667\n",
       "4  0.194444  0.666667  0.067797  0.041667"
      ]
     },
     "execution_count": 37,
     "metadata": {},
     "output_type": "execute_result"
    }
   ],
   "source": [
    "X1=pd.DataFrame(X1,columns=['SL', 'SW', 'PL', 'PW'])\n",
    "X1.head()"
   ]
  },
  {
   "cell_type": "code",
   "execution_count": 38,
   "id": "fd9bc8bf",
   "metadata": {},
   "outputs": [
    {
     "data": {
      "text/html": [
       "<div>\n",
       "<style scoped>\n",
       "    .dataframe tbody tr th:only-of-type {\n",
       "        vertical-align: middle;\n",
       "    }\n",
       "\n",
       "    .dataframe tbody tr th {\n",
       "        vertical-align: top;\n",
       "    }\n",
       "\n",
       "    .dataframe thead th {\n",
       "        text-align: right;\n",
       "    }\n",
       "</style>\n",
       "<table border=\"1\" class=\"dataframe\">\n",
       "  <thead>\n",
       "    <tr style=\"text-align: right;\">\n",
       "      <th></th>\n",
       "      <th>SL</th>\n",
       "      <th>SW</th>\n",
       "      <th>PL</th>\n",
       "      <th>PW</th>\n",
       "      <th>Classification_Iris-versicolor</th>\n",
       "      <th>Classification_Iris-virginica</th>\n",
       "    </tr>\n",
       "  </thead>\n",
       "  <tbody>\n",
       "    <tr>\n",
       "      <th>0</th>\n",
       "      <td>5.1</td>\n",
       "      <td>3.5</td>\n",
       "      <td>1.4</td>\n",
       "      <td>0.2</td>\n",
       "      <td>0</td>\n",
       "      <td>0</td>\n",
       "    </tr>\n",
       "    <tr>\n",
       "      <th>1</th>\n",
       "      <td>4.9</td>\n",
       "      <td>3.0</td>\n",
       "      <td>1.4</td>\n",
       "      <td>0.2</td>\n",
       "      <td>0</td>\n",
       "      <td>0</td>\n",
       "    </tr>\n",
       "    <tr>\n",
       "      <th>2</th>\n",
       "      <td>5.8</td>\n",
       "      <td>3.2</td>\n",
       "      <td>1.3</td>\n",
       "      <td>0.2</td>\n",
       "      <td>0</td>\n",
       "      <td>0</td>\n",
       "    </tr>\n",
       "    <tr>\n",
       "      <th>3</th>\n",
       "      <td>4.6</td>\n",
       "      <td>3.1</td>\n",
       "      <td>1.5</td>\n",
       "      <td>0.2</td>\n",
       "      <td>0</td>\n",
       "      <td>0</td>\n",
       "    </tr>\n",
       "    <tr>\n",
       "      <th>4</th>\n",
       "      <td>5.0</td>\n",
       "      <td>3.6</td>\n",
       "      <td>1.4</td>\n",
       "      <td>0.2</td>\n",
       "      <td>0</td>\n",
       "      <td>0</td>\n",
       "    </tr>\n",
       "  </tbody>\n",
       "</table>\n",
       "</div>"
      ],
      "text/plain": [
       "    SL   SW   PL   PW  Classification_Iris-versicolor  \\\n",
       "0  5.1  3.5  1.4  0.2                               0   \n",
       "1  4.9  3.0  1.4  0.2                               0   \n",
       "2  5.8  3.2  1.3  0.2                               0   \n",
       "3  4.6  3.1  1.5  0.2                               0   \n",
       "4  5.0  3.6  1.4  0.2                               0   \n",
       "\n",
       "   Classification_Iris-virginica  \n",
       "0                              0  \n",
       "1                              0  \n",
       "2                              0  \n",
       "3                              0  \n",
       "4                              0  "
      ]
     },
     "execution_count": 38,
     "metadata": {},
     "output_type": "execute_result"
    }
   ],
   "source": [
    "X.head()"
   ]
  },
  {
   "cell_type": "code",
   "execution_count": 39,
   "id": "3e3d0356",
   "metadata": {},
   "outputs": [],
   "source": [
    "X.drop(['SL', 'SW', 'PL', 'PW'],axis=1,inplace=True)"
   ]
  },
  {
   "cell_type": "code",
   "execution_count": 40,
   "id": "6aed0ff3",
   "metadata": {},
   "outputs": [
    {
     "data": {
      "text/html": [
       "<div>\n",
       "<style scoped>\n",
       "    .dataframe tbody tr th:only-of-type {\n",
       "        vertical-align: middle;\n",
       "    }\n",
       "\n",
       "    .dataframe tbody tr th {\n",
       "        vertical-align: top;\n",
       "    }\n",
       "\n",
       "    .dataframe thead th {\n",
       "        text-align: right;\n",
       "    }\n",
       "</style>\n",
       "<table border=\"1\" class=\"dataframe\">\n",
       "  <thead>\n",
       "    <tr style=\"text-align: right;\">\n",
       "      <th></th>\n",
       "      <th>Classification_Iris-versicolor</th>\n",
       "      <th>Classification_Iris-virginica</th>\n",
       "      <th>SL</th>\n",
       "      <th>SW</th>\n",
       "      <th>PL</th>\n",
       "      <th>PW</th>\n",
       "    </tr>\n",
       "  </thead>\n",
       "  <tbody>\n",
       "    <tr>\n",
       "      <th>0</th>\n",
       "      <td>0</td>\n",
       "      <td>0</td>\n",
       "      <td>0.222222</td>\n",
       "      <td>0.625000</td>\n",
       "      <td>0.067797</td>\n",
       "      <td>0.041667</td>\n",
       "    </tr>\n",
       "    <tr>\n",
       "      <th>1</th>\n",
       "      <td>0</td>\n",
       "      <td>0</td>\n",
       "      <td>0.166667</td>\n",
       "      <td>0.416667</td>\n",
       "      <td>0.067797</td>\n",
       "      <td>0.041667</td>\n",
       "    </tr>\n",
       "    <tr>\n",
       "      <th>2</th>\n",
       "      <td>0</td>\n",
       "      <td>0</td>\n",
       "      <td>0.416667</td>\n",
       "      <td>0.500000</td>\n",
       "      <td>0.050847</td>\n",
       "      <td>0.041667</td>\n",
       "    </tr>\n",
       "    <tr>\n",
       "      <th>3</th>\n",
       "      <td>0</td>\n",
       "      <td>0</td>\n",
       "      <td>0.083333</td>\n",
       "      <td>0.458333</td>\n",
       "      <td>0.084746</td>\n",
       "      <td>0.041667</td>\n",
       "    </tr>\n",
       "    <tr>\n",
       "      <th>4</th>\n",
       "      <td>0</td>\n",
       "      <td>0</td>\n",
       "      <td>0.194444</td>\n",
       "      <td>0.666667</td>\n",
       "      <td>0.067797</td>\n",
       "      <td>0.041667</td>\n",
       "    </tr>\n",
       "  </tbody>\n",
       "</table>\n",
       "</div>"
      ],
      "text/plain": [
       "   Classification_Iris-versicolor  Classification_Iris-virginica        SL  \\\n",
       "0                               0                              0  0.222222   \n",
       "1                               0                              0  0.166667   \n",
       "2                               0                              0  0.416667   \n",
       "3                               0                              0  0.083333   \n",
       "4                               0                              0  0.194444   \n",
       "\n",
       "         SW        PL        PW  \n",
       "0  0.625000  0.067797  0.041667  \n",
       "1  0.416667  0.067797  0.041667  \n",
       "2  0.500000  0.050847  0.041667  \n",
       "3  0.458333  0.084746  0.041667  \n",
       "4  0.666667  0.067797  0.041667  "
      ]
     },
     "execution_count": 40,
     "metadata": {},
     "output_type": "execute_result"
    }
   ],
   "source": [
    "X=pd.concat([X,X1],axis=1)\n",
    "X.head()"
   ]
  },
  {
   "cell_type": "code",
   "execution_count": 41,
   "id": "0a4db200",
   "metadata": {},
   "outputs": [],
   "source": [
    "X_train,X_test,y_train,y_test=train_test_split(X,y,random_state=42,test_size=0.2)"
   ]
  },
  {
   "cell_type": "code",
   "execution_count": 42,
   "id": "473c0afb",
   "metadata": {},
   "outputs": [],
   "source": [
    "lin_reg=LinearRegression()\n",
    "model=lin_reg.fit(X_train,y_train)\n",
    "prediction=model.predict(X_test)"
   ]
  },
  {
   "cell_type": "code",
   "execution_count": 43,
   "id": "d437e24f",
   "metadata": {},
   "outputs": [
    {
     "name": "stdout",
     "output_type": "stream",
     "text": [
      "The MSE value is: 2.3172789090867223e-31\n",
      "The r squared value is: 1.0\n"
     ]
    }
   ],
   "source": [
    "print('The MSE value is:',mean_squared_error(y_test,prediction))\n",
    "print('The r squared value is:',r2_score(y_test,prediction))"
   ]
  },
  {
   "cell_type": "code",
   "execution_count": 44,
   "id": "5205dde8",
   "metadata": {},
   "outputs": [],
   "source": [
    "## here scaling dosent give any changes in mse\n",
    "## whwn using normalization"
   ]
  },
  {
   "cell_type": "code",
   "execution_count": 45,
   "id": "da0cae86",
   "metadata": {},
   "outputs": [],
   "source": [
    "X1=preprocessing.normalize(X1)"
   ]
  },
  {
   "cell_type": "code",
   "execution_count": 46,
   "id": "dbeb3aa0",
   "metadata": {},
   "outputs": [
    {
     "data": {
      "text/plain": [
       "numpy.ndarray"
      ]
     },
     "execution_count": 46,
     "metadata": {},
     "output_type": "execute_result"
    }
   ],
   "source": [
    "type(X1)"
   ]
  },
  {
   "cell_type": "code",
   "execution_count": 47,
   "id": "cce8035b",
   "metadata": {},
   "outputs": [
    {
     "data": {
      "text/html": [
       "<div>\n",
       "<style scoped>\n",
       "    .dataframe tbody tr th:only-of-type {\n",
       "        vertical-align: middle;\n",
       "    }\n",
       "\n",
       "    .dataframe tbody tr th {\n",
       "        vertical-align: top;\n",
       "    }\n",
       "\n",
       "    .dataframe thead th {\n",
       "        text-align: right;\n",
       "    }\n",
       "</style>\n",
       "<table border=\"1\" class=\"dataframe\">\n",
       "  <thead>\n",
       "    <tr style=\"text-align: right;\">\n",
       "      <th></th>\n",
       "      <th>SL</th>\n",
       "      <th>SW</th>\n",
       "      <th>PL</th>\n",
       "      <th>PW</th>\n",
       "    </tr>\n",
       "  </thead>\n",
       "  <tbody>\n",
       "    <tr>\n",
       "      <th>0</th>\n",
       "      <td>0.332625</td>\n",
       "      <td>0.935507</td>\n",
       "      <td>0.101479</td>\n",
       "      <td>0.062367</td>\n",
       "    </tr>\n",
       "    <tr>\n",
       "      <th>1</th>\n",
       "      <td>0.365686</td>\n",
       "      <td>0.914215</td>\n",
       "      <td>0.148754</td>\n",
       "      <td>0.091421</td>\n",
       "    </tr>\n",
       "    <tr>\n",
       "      <th>2</th>\n",
       "      <td>0.636944</td>\n",
       "      <td>0.764332</td>\n",
       "      <td>0.077729</td>\n",
       "      <td>0.063694</td>\n",
       "    </tr>\n",
       "    <tr>\n",
       "      <th>3</th>\n",
       "      <td>0.175319</td>\n",
       "      <td>0.964257</td>\n",
       "      <td>0.178291</td>\n",
       "      <td>0.087660</td>\n",
       "    </tr>\n",
       "    <tr>\n",
       "      <th>4</th>\n",
       "      <td>0.278180</td>\n",
       "      <td>0.953758</td>\n",
       "      <td>0.096992</td>\n",
       "      <td>0.059610</td>\n",
       "    </tr>\n",
       "  </tbody>\n",
       "</table>\n",
       "</div>"
      ],
      "text/plain": [
       "         SL        SW        PL        PW\n",
       "0  0.332625  0.935507  0.101479  0.062367\n",
       "1  0.365686  0.914215  0.148754  0.091421\n",
       "2  0.636944  0.764332  0.077729  0.063694\n",
       "3  0.175319  0.964257  0.178291  0.087660\n",
       "4  0.278180  0.953758  0.096992  0.059610"
      ]
     },
     "execution_count": 47,
     "metadata": {},
     "output_type": "execute_result"
    }
   ],
   "source": [
    "X1=pd.DataFrame(X1,columns=['SL', 'SW', 'PL', 'PW'])\n",
    "X1.head()"
   ]
  },
  {
   "cell_type": "code",
   "execution_count": 48,
   "id": "6912f915",
   "metadata": {},
   "outputs": [],
   "source": [
    "X.drop(['SL', 'SW', 'PL', 'PW'],axis=1,inplace=True)"
   ]
  },
  {
   "cell_type": "code",
   "execution_count": 49,
   "id": "45da88e8",
   "metadata": {},
   "outputs": [
    {
     "data": {
      "text/html": [
       "<div>\n",
       "<style scoped>\n",
       "    .dataframe tbody tr th:only-of-type {\n",
       "        vertical-align: middle;\n",
       "    }\n",
       "\n",
       "    .dataframe tbody tr th {\n",
       "        vertical-align: top;\n",
       "    }\n",
       "\n",
       "    .dataframe thead th {\n",
       "        text-align: right;\n",
       "    }\n",
       "</style>\n",
       "<table border=\"1\" class=\"dataframe\">\n",
       "  <thead>\n",
       "    <tr style=\"text-align: right;\">\n",
       "      <th></th>\n",
       "      <th>Classification_Iris-versicolor</th>\n",
       "      <th>Classification_Iris-virginica</th>\n",
       "      <th>SL</th>\n",
       "      <th>SW</th>\n",
       "      <th>PL</th>\n",
       "      <th>PW</th>\n",
       "    </tr>\n",
       "  </thead>\n",
       "  <tbody>\n",
       "    <tr>\n",
       "      <th>0</th>\n",
       "      <td>0</td>\n",
       "      <td>0</td>\n",
       "      <td>0.332625</td>\n",
       "      <td>0.935507</td>\n",
       "      <td>0.101479</td>\n",
       "      <td>0.062367</td>\n",
       "    </tr>\n",
       "    <tr>\n",
       "      <th>1</th>\n",
       "      <td>0</td>\n",
       "      <td>0</td>\n",
       "      <td>0.365686</td>\n",
       "      <td>0.914215</td>\n",
       "      <td>0.148754</td>\n",
       "      <td>0.091421</td>\n",
       "    </tr>\n",
       "    <tr>\n",
       "      <th>2</th>\n",
       "      <td>0</td>\n",
       "      <td>0</td>\n",
       "      <td>0.636944</td>\n",
       "      <td>0.764332</td>\n",
       "      <td>0.077729</td>\n",
       "      <td>0.063694</td>\n",
       "    </tr>\n",
       "    <tr>\n",
       "      <th>3</th>\n",
       "      <td>0</td>\n",
       "      <td>0</td>\n",
       "      <td>0.175319</td>\n",
       "      <td>0.964257</td>\n",
       "      <td>0.178291</td>\n",
       "      <td>0.087660</td>\n",
       "    </tr>\n",
       "    <tr>\n",
       "      <th>4</th>\n",
       "      <td>0</td>\n",
       "      <td>0</td>\n",
       "      <td>0.278180</td>\n",
       "      <td>0.953758</td>\n",
       "      <td>0.096992</td>\n",
       "      <td>0.059610</td>\n",
       "    </tr>\n",
       "  </tbody>\n",
       "</table>\n",
       "</div>"
      ],
      "text/plain": [
       "   Classification_Iris-versicolor  Classification_Iris-virginica        SL  \\\n",
       "0                               0                              0  0.332625   \n",
       "1                               0                              0  0.365686   \n",
       "2                               0                              0  0.636944   \n",
       "3                               0                              0  0.175319   \n",
       "4                               0                              0  0.278180   \n",
       "\n",
       "         SW        PL        PW  \n",
       "0  0.935507  0.101479  0.062367  \n",
       "1  0.914215  0.148754  0.091421  \n",
       "2  0.764332  0.077729  0.063694  \n",
       "3  0.964257  0.178291  0.087660  \n",
       "4  0.953758  0.096992  0.059610  "
      ]
     },
     "execution_count": 49,
     "metadata": {},
     "output_type": "execute_result"
    }
   ],
   "source": [
    "X=pd.concat([X,X1],axis=1)\n",
    "X.head()"
   ]
  },
  {
   "cell_type": "code",
   "execution_count": 50,
   "id": "560ebe94",
   "metadata": {},
   "outputs": [],
   "source": [
    "X_train,X_test,y_train,y_test=train_test_split(X,y,random_state=42,test_size=0.2)"
   ]
  },
  {
   "cell_type": "code",
   "execution_count": 51,
   "id": "28b1cac7",
   "metadata": {},
   "outputs": [
    {
     "name": "stdout",
     "output_type": "stream",
     "text": [
      "The MSE value is: 2.0666512256571298e-31\n",
      "The r squared value is: 1.0\n"
     ]
    }
   ],
   "source": [
    "lin_reg=LinearRegression()\n",
    "model=lin_reg.fit(X_train,y_train)\n",
    "prediction=model.predict(X_test)\n",
    "print('The MSE value is:',mean_squared_error(y_test,prediction))\n",
    "print('The r squared value is:',r2_score(y_test,prediction))"
   ]
  },
  {
   "cell_type": "code",
   "execution_count": 52,
   "id": "c19fea3a",
   "metadata": {},
   "outputs": [],
   "source": [
    "## here normalization also dosen't give any change in mse"
   ]
  },
  {
   "cell_type": "code",
   "execution_count": 53,
   "id": "01d66ab9",
   "metadata": {},
   "outputs": [],
   "source": [
    "## when checking outliers "
   ]
  },
  {
   "cell_type": "code",
   "execution_count": 54,
   "id": "952da6a7",
   "metadata": {},
   "outputs": [
    {
     "data": {
      "image/png": "[encoded data removed]",
      "text/plain": [
       "<Figure size 432x288 with 1 Axes>"
      ]
     },
     "metadata": {
      "needs_background": "light"
     },
     "output_type": "display_data"
    }
   ],
   "source": [
    "plt.boxplot(data1['SL'])\n",
    "plt.show()"
   ]
  },
  {
   "cell_type": "code",
   "execution_count": 55,
   "id": "f1029b73",
   "metadata": {},
   "outputs": [
    {
     "data": {
      "image/png": "[encoded data removed]",
      "text/plain": [
       "<Figure size 432x288 with 1 Axes>"
      ]
     },
     "metadata": {
      "needs_background": "light"
     },
     "output_type": "display_data"
    }
   ],
   "source": [
    "plt.boxplot(data1['SW'])\n",
    "plt.show()"
   ]
  },
  {
   "cell_type": "code",
   "execution_count": 56,
   "id": "4482db50",
   "metadata": {},
   "outputs": [
    {
     "data": {
      "image/png": "[encoded data removed]",
      "text/plain": [
       "<Figure size 432x288 with 1 Axes>"
      ]
     },
     "metadata": {
      "needs_background": "light"
     },
     "output_type": "display_data"
    }
   ],
   "source": [
    "plt.boxplot(data1['PL'])\n",
    "plt.show()"
   ]
  },
  {
   "cell_type": "code",
   "execution_count": 57,
   "id": "e9c30c84",
   "metadata": {},
   "outputs": [
    {
     "data": {
      "image/png": "[encoded data removed]",
      "text/plain": [
       "<Figure size 432x288 with 1 Axes>"
      ]
     },
     "metadata": {
      "needs_background": "light"
     },
     "output_type": "display_data"
    }
   ],
   "source": [
    "plt.boxplot(data1['PW'])\n",
    "plt.show()"
   ]
  },
  {
   "cell_type": "code",
   "execution_count": 58,
   "id": "d44bfd84",
   "metadata": {},
   "outputs": [],
   "source": [
    "## here we can sea some outliers are present in SW. so we can handle these outliers"
   ]
  },
  {
   "cell_type": "code",
   "execution_count": 59,
   "id": "2f37aea6",
   "metadata": {},
   "outputs": [],
   "source": [
    "Q1=np.percentile(data['SW'],25,interpolation='midpoint')\n",
    "Q2=np.percentile(data['SW'],50,interpolation='midpoint')\n",
    "Q3=np.percentile(data['SW'],75,interpolation='midpoint')\n"
   ]
  },
  {
   "cell_type": "code",
   "execution_count": 60,
   "id": "83a3d198",
   "metadata": {},
   "outputs": [
    {
     "name": "stdout",
     "output_type": "stream",
     "text": [
      "2.8\n",
      "3.0\n",
      "3.25\n"
     ]
    }
   ],
   "source": [
    "print(Q1)\n",
    "print(Q2)\n",
    "print(Q3)"
   ]
  },
  {
   "cell_type": "code",
   "execution_count": 61,
   "id": "f5f695e7",
   "metadata": {},
   "outputs": [
    {
     "data": {
      "text/plain": [
       "3.0"
      ]
     },
     "execution_count": 61,
     "metadata": {},
     "output_type": "execute_result"
    }
   ],
   "source": [
    "data1['SW'].median()"
   ]
  },
  {
   "cell_type": "code",
   "execution_count": 62,
   "id": "b28d0c5d",
   "metadata": {},
   "outputs": [
    {
     "data": {
      "text/plain": [
       "0.4500000000000002"
      ]
     },
     "execution_count": 62,
     "metadata": {},
     "output_type": "execute_result"
    }
   ],
   "source": [
    "IQR=Q3-Q1\n",
    "IQR"
   ]
  },
  {
   "cell_type": "code",
   "execution_count": 63,
   "id": "3d170439",
   "metadata": {},
   "outputs": [],
   "source": [
    "low_lim = Q1-1.5*IQR\n",
    "up_lim = Q3+1.5*IQR"
   ]
  },
  {
   "cell_type": "code",
   "execution_count": 64,
   "id": "42eb14f5",
   "metadata": {},
   "outputs": [
    {
     "data": {
      "text/plain": [
       "2.1249999999999996"
      ]
     },
     "execution_count": 64,
     "metadata": {},
     "output_type": "execute_result"
    }
   ],
   "source": [
    "low_lim"
   ]
  },
  {
   "cell_type": "code",
   "execution_count": 65,
   "id": "d08f7990",
   "metadata": {},
   "outputs": [
    {
     "data": {
      "text/plain": [
       "3.9250000000000003"
      ]
     },
     "execution_count": 65,
     "metadata": {},
     "output_type": "execute_result"
    }
   ],
   "source": [
    "up_lim"
   ]
  },
  {
   "cell_type": "code",
   "execution_count": 66,
   "id": "7bbe45fa",
   "metadata": {},
   "outputs": [],
   "source": [
    "outliers=[]\n",
    "for i in data1['SW']:\n",
    "    if(i>up_lim) or (i<low_lim):\n",
    "        outliers.append(i)"
   ]
  },
  {
   "cell_type": "code",
   "execution_count": 67,
   "id": "038e985c",
   "metadata": {},
   "outputs": [
    {
     "data": {
      "text/plain": [
       "[4.0, 4.4, 4.1, 4.2, 2.0]"
      ]
     },
     "execution_count": 67,
     "metadata": {},
     "output_type": "execute_result"
    }
   ],
   "source": [
    "outliers"
   ]
  },
  {
   "cell_type": "code",
   "execution_count": 68,
   "id": "ec626d6f",
   "metadata": {},
   "outputs": [
    {
     "data": {
      "text/plain": [
       "Int64Index([14, 15, 32, 33], dtype='int64')"
      ]
     },
     "execution_count": 68,
     "metadata": {},
     "output_type": "execute_result"
    }
   ],
   "source": [
    "ind = data1['SW']>up_lim\n",
    "data.loc[ind].index"
   ]
  },
  {
   "cell_type": "code",
   "execution_count": 69,
   "id": "fbe9fb80",
   "metadata": {},
   "outputs": [
    {
     "data": {
      "text/plain": [
       "Int64Index([60], dtype='int64')"
      ]
     },
     "execution_count": 69,
     "metadata": {},
     "output_type": "execute_result"
    }
   ],
   "source": [
    "ind = data1['SW']<low_lim\n",
    "data.loc[ind].index"
   ]
  },
  {
   "cell_type": "code",
   "execution_count": 70,
   "id": "5bcb8a2b",
   "metadata": {},
   "outputs": [
    {
     "data": {
      "text/html": [
       "<div>\n",
       "<style scoped>\n",
       "    .dataframe tbody tr th:only-of-type {\n",
       "        vertical-align: middle;\n",
       "    }\n",
       "\n",
       "    .dataframe tbody tr th {\n",
       "        vertical-align: top;\n",
       "    }\n",
       "\n",
       "    .dataframe thead th {\n",
       "        text-align: right;\n",
       "    }\n",
       "</style>\n",
       "<table border=\"1\" class=\"dataframe\">\n",
       "  <thead>\n",
       "    <tr style=\"text-align: right;\">\n",
       "      <th></th>\n",
       "      <th>SL</th>\n",
       "      <th>SW</th>\n",
       "      <th>PL</th>\n",
       "      <th>PW</th>\n",
       "      <th>Classification_Iris-setosa</th>\n",
       "      <th>Classification_Iris-versicolor</th>\n",
       "      <th>Classification_Iris-virginica</th>\n",
       "    </tr>\n",
       "  </thead>\n",
       "  <tbody>\n",
       "    <tr>\n",
       "      <th>0</th>\n",
       "      <td>5.1</td>\n",
       "      <td>3.5</td>\n",
       "      <td>1.40</td>\n",
       "      <td>0.2</td>\n",
       "      <td>1</td>\n",
       "      <td>0</td>\n",
       "      <td>0</td>\n",
       "    </tr>\n",
       "    <tr>\n",
       "      <th>1</th>\n",
       "      <td>4.9</td>\n",
       "      <td>3.0</td>\n",
       "      <td>1.40</td>\n",
       "      <td>0.2</td>\n",
       "      <td>1</td>\n",
       "      <td>0</td>\n",
       "      <td>0</td>\n",
       "    </tr>\n",
       "    <tr>\n",
       "      <th>2</th>\n",
       "      <td>5.8</td>\n",
       "      <td>3.2</td>\n",
       "      <td>1.30</td>\n",
       "      <td>0.2</td>\n",
       "      <td>1</td>\n",
       "      <td>0</td>\n",
       "      <td>0</td>\n",
       "    </tr>\n",
       "    <tr>\n",
       "      <th>3</th>\n",
       "      <td>4.6</td>\n",
       "      <td>3.1</td>\n",
       "      <td>1.50</td>\n",
       "      <td>0.2</td>\n",
       "      <td>1</td>\n",
       "      <td>0</td>\n",
       "      <td>0</td>\n",
       "    </tr>\n",
       "    <tr>\n",
       "      <th>4</th>\n",
       "      <td>5.0</td>\n",
       "      <td>3.6</td>\n",
       "      <td>1.40</td>\n",
       "      <td>0.2</td>\n",
       "      <td>1</td>\n",
       "      <td>0</td>\n",
       "      <td>0</td>\n",
       "    </tr>\n",
       "    <tr>\n",
       "      <th>...</th>\n",
       "      <td>...</td>\n",
       "      <td>...</td>\n",
       "      <td>...</td>\n",
       "      <td>...</td>\n",
       "      <td>...</td>\n",
       "      <td>...</td>\n",
       "      <td>...</td>\n",
       "    </tr>\n",
       "    <tr>\n",
       "      <th>145</th>\n",
       "      <td>6.7</td>\n",
       "      <td>3.0</td>\n",
       "      <td>5.20</td>\n",
       "      <td>2.3</td>\n",
       "      <td>0</td>\n",
       "      <td>0</td>\n",
       "      <td>1</td>\n",
       "    </tr>\n",
       "    <tr>\n",
       "      <th>146</th>\n",
       "      <td>6.3</td>\n",
       "      <td>2.5</td>\n",
       "      <td>5.00</td>\n",
       "      <td>1.9</td>\n",
       "      <td>0</td>\n",
       "      <td>0</td>\n",
       "      <td>1</td>\n",
       "    </tr>\n",
       "    <tr>\n",
       "      <th>147</th>\n",
       "      <td>6.5</td>\n",
       "      <td>3.0</td>\n",
       "      <td>4.35</td>\n",
       "      <td>2.0</td>\n",
       "      <td>0</td>\n",
       "      <td>0</td>\n",
       "      <td>1</td>\n",
       "    </tr>\n",
       "    <tr>\n",
       "      <th>148</th>\n",
       "      <td>6.2</td>\n",
       "      <td>3.4</td>\n",
       "      <td>5.40</td>\n",
       "      <td>2.3</td>\n",
       "      <td>0</td>\n",
       "      <td>0</td>\n",
       "      <td>1</td>\n",
       "    </tr>\n",
       "    <tr>\n",
       "      <th>149</th>\n",
       "      <td>5.9</td>\n",
       "      <td>3.0</td>\n",
       "      <td>5.10</td>\n",
       "      <td>1.8</td>\n",
       "      <td>0</td>\n",
       "      <td>0</td>\n",
       "      <td>1</td>\n",
       "    </tr>\n",
       "  </tbody>\n",
       "</table>\n",
       "<p>145 rows × 7 columns</p>\n",
       "</div>"
      ],
      "text/plain": [
       "      SL   SW    PL   PW  Classification_Iris-setosa  \\\n",
       "0    5.1  3.5  1.40  0.2                           1   \n",
       "1    4.9  3.0  1.40  0.2                           1   \n",
       "2    5.8  3.2  1.30  0.2                           1   \n",
       "3    4.6  3.1  1.50  0.2                           1   \n",
       "4    5.0  3.6  1.40  0.2                           1   \n",
       "..   ...  ...   ...  ...                         ...   \n",
       "145  6.7  3.0  5.20  2.3                           0   \n",
       "146  6.3  2.5  5.00  1.9                           0   \n",
       "147  6.5  3.0  4.35  2.0                           0   \n",
       "148  6.2  3.4  5.40  2.3                           0   \n",
       "149  5.9  3.0  5.10  1.8                           0   \n",
       "\n",
       "     Classification_Iris-versicolor  Classification_Iris-virginica  \n",
       "0                                 0                              0  \n",
       "1                                 0                              0  \n",
       "2                                 0                              0  \n",
       "3                                 0                              0  \n",
       "4                                 0                              0  \n",
       "..                              ...                            ...  \n",
       "145                               0                              1  \n",
       "146                               0                              1  \n",
       "147                               0                              1  \n",
       "148                               0                              1  \n",
       "149                               0                              1  \n",
       "\n",
       "[145 rows x 7 columns]"
      ]
     },
     "execution_count": 70,
     "metadata": {},
     "output_type": "execute_result"
    }
   ],
   "source": [
    "data1.drop([14, 15, 32, 33,60])"
   ]
  },
  {
   "cell_type": "code",
   "execution_count": 71,
   "id": "dfb85828",
   "metadata": {},
   "outputs": [],
   "source": [
    "X1=X.drop(['Classification_Iris-versicolor', 'Classification_Iris-virginica'],axis=1)"
   ]
  },
  {
   "cell_type": "code",
   "execution_count": 72,
   "id": "65b39e3b",
   "metadata": {},
   "outputs": [],
   "source": [
    "min_max_scaler=preprocessing.MinMaxScaler(feature_range=(0,1))"
   ]
  },
  {
   "cell_type": "code",
   "execution_count": 73,
   "id": "36f88753",
   "metadata": {},
   "outputs": [],
   "source": [
    "X1=min_max_scaler.fit_transform(X1)"
   ]
  },
  {
   "cell_type": "code",
   "execution_count": 74,
   "id": "8aadff89",
   "metadata": {},
   "outputs": [
    {
     "data": {
      "text/html": [
       "<div>\n",
       "<style scoped>\n",
       "    .dataframe tbody tr th:only-of-type {\n",
       "        vertical-align: middle;\n",
       "    }\n",
       "\n",
       "    .dataframe tbody tr th {\n",
       "        vertical-align: top;\n",
       "    }\n",
       "\n",
       "    .dataframe thead th {\n",
       "        text-align: right;\n",
       "    }\n",
       "</style>\n",
       "<table border=\"1\" class=\"dataframe\">\n",
       "  <thead>\n",
       "    <tr style=\"text-align: right;\">\n",
       "      <th></th>\n",
       "      <th>SL</th>\n",
       "      <th>SW</th>\n",
       "      <th>PL</th>\n",
       "      <th>PW</th>\n",
       "    </tr>\n",
       "  </thead>\n",
       "  <tbody>\n",
       "    <tr>\n",
       "      <th>0</th>\n",
       "      <td>0.522220</td>\n",
       "      <td>0.936281</td>\n",
       "      <td>0.135512</td>\n",
       "      <td>0.084503</td>\n",
       "    </tr>\n",
       "    <tr>\n",
       "      <th>1</th>\n",
       "      <td>0.574126</td>\n",
       "      <td>0.914971</td>\n",
       "      <td>0.198642</td>\n",
       "      <td>0.123870</td>\n",
       "    </tr>\n",
       "    <tr>\n",
       "      <th>2</th>\n",
       "      <td>1.000000</td>\n",
       "      <td>0.764965</td>\n",
       "      <td>0.103797</td>\n",
       "      <td>0.086301</td>\n",
       "    </tr>\n",
       "    <tr>\n",
       "      <th>3</th>\n",
       "      <td>0.275251</td>\n",
       "      <td>0.965054</td>\n",
       "      <td>0.238085</td>\n",
       "      <td>0.118773</td>\n",
       "    </tr>\n",
       "    <tr>\n",
       "      <th>4</th>\n",
       "      <td>0.436741</td>\n",
       "      <td>0.954547</td>\n",
       "      <td>0.129521</td>\n",
       "      <td>0.080767</td>\n",
       "    </tr>\n",
       "  </tbody>\n",
       "</table>\n",
       "</div>"
      ],
      "text/plain": [
       "         SL        SW        PL        PW\n",
       "0  0.522220  0.936281  0.135512  0.084503\n",
       "1  0.574126  0.914971  0.198642  0.123870\n",
       "2  1.000000  0.764965  0.103797  0.086301\n",
       "3  0.275251  0.965054  0.238085  0.118773\n",
       "4  0.436741  0.954547  0.129521  0.080767"
      ]
     },
     "execution_count": 74,
     "metadata": {},
     "output_type": "execute_result"
    }
   ],
   "source": [
    "X1=pd.DataFrame(X1,columns=['SL', 'SW', 'PL', 'PW'])\n",
    "X1.head()"
   ]
  },
  {
   "cell_type": "code",
   "execution_count": 75,
   "id": "04d1d551",
   "metadata": {},
   "outputs": [],
   "source": [
    "X.drop(['SL', 'SW', 'PL', 'PW'],axis=1,inplace=True)"
   ]
  },
  {
   "cell_type": "code",
   "execution_count": null,
   "id": "cd61f4fc",
   "metadata": {},
   "outputs": [],
   "source": []
  },
  {
   "cell_type": "code",
   "execution_count": 76,
   "id": "31e068f7",
   "metadata": {},
   "outputs": [
    {
     "data": {
      "text/html": [
       "<div>\n",
       "<style scoped>\n",
       "    .dataframe tbody tr th:only-of-type {\n",
       "        vertical-align: middle;\n",
       "    }\n",
       "\n",
       "    .dataframe tbody tr th {\n",
       "        vertical-align: top;\n",
       "    }\n",
       "\n",
       "    .dataframe thead th {\n",
       "        text-align: right;\n",
       "    }\n",
       "</style>\n",
       "<table border=\"1\" class=\"dataframe\">\n",
       "  <thead>\n",
       "    <tr style=\"text-align: right;\">\n",
       "      <th></th>\n",
       "      <th>Classification_Iris-versicolor</th>\n",
       "      <th>Classification_Iris-virginica</th>\n",
       "      <th>SL</th>\n",
       "      <th>SW</th>\n",
       "      <th>PL</th>\n",
       "      <th>PW</th>\n",
       "    </tr>\n",
       "  </thead>\n",
       "  <tbody>\n",
       "    <tr>\n",
       "      <th>0</th>\n",
       "      <td>0</td>\n",
       "      <td>0</td>\n",
       "      <td>0.522220</td>\n",
       "      <td>0.936281</td>\n",
       "      <td>0.135512</td>\n",
       "      <td>0.084503</td>\n",
       "    </tr>\n",
       "    <tr>\n",
       "      <th>1</th>\n",
       "      <td>0</td>\n",
       "      <td>0</td>\n",
       "      <td>0.574126</td>\n",
       "      <td>0.914971</td>\n",
       "      <td>0.198642</td>\n",
       "      <td>0.123870</td>\n",
       "    </tr>\n",
       "    <tr>\n",
       "      <th>2</th>\n",
       "      <td>0</td>\n",
       "      <td>0</td>\n",
       "      <td>1.000000</td>\n",
       "      <td>0.764965</td>\n",
       "      <td>0.103797</td>\n",
       "      <td>0.086301</td>\n",
       "    </tr>\n",
       "    <tr>\n",
       "      <th>3</th>\n",
       "      <td>0</td>\n",
       "      <td>0</td>\n",
       "      <td>0.275251</td>\n",
       "      <td>0.965054</td>\n",
       "      <td>0.238085</td>\n",
       "      <td>0.118773</td>\n",
       "    </tr>\n",
       "    <tr>\n",
       "      <th>4</th>\n",
       "      <td>0</td>\n",
       "      <td>0</td>\n",
       "      <td>0.436741</td>\n",
       "      <td>0.954547</td>\n",
       "      <td>0.129521</td>\n",
       "      <td>0.080767</td>\n",
       "    </tr>\n",
       "  </tbody>\n",
       "</table>\n",
       "</div>"
      ],
      "text/plain": [
       "   Classification_Iris-versicolor  Classification_Iris-virginica        SL  \\\n",
       "0                               0                              0  0.522220   \n",
       "1                               0                              0  0.574126   \n",
       "2                               0                              0  1.000000   \n",
       "3                               0                              0  0.275251   \n",
       "4                               0                              0  0.436741   \n",
       "\n",
       "         SW        PL        PW  \n",
       "0  0.936281  0.135512  0.084503  \n",
       "1  0.914971  0.198642  0.123870  \n",
       "2  0.764965  0.103797  0.086301  \n",
       "3  0.965054  0.238085  0.118773  \n",
       "4  0.954547  0.129521  0.080767  "
      ]
     },
     "execution_count": 76,
     "metadata": {},
     "output_type": "execute_result"
    }
   ],
   "source": [
    "X=pd.concat([X,X1],axis=1)\n",
    "X.head()"
   ]
  },
  {
   "cell_type": "markdown",
   "id": "a4276796",
   "metadata": {},
   "source": [
    "## 3. Find out which classification model gives the best result (also do random forest algorithm)"
   ]
  },
  {
   "cell_type": "code",
   "execution_count": 77,
   "id": "80612b2a",
   "metadata": {},
   "outputs": [],
   "source": [
    "X=data1.drop('Classification_Iris-setosa',axis=1)\n",
    "y=data1['Classification_Iris-setosa']"
   ]
  },
  {
   "cell_type": "code",
   "execution_count": 78,
   "id": "e043b816",
   "metadata": {},
   "outputs": [],
   "source": [
    "X_train,X_test,y_train,y_test=train_test_split(X,y,random_state=42,test_size=0.2)"
   ]
  },
  {
   "cell_type": "code",
   "execution_count": 79,
   "id": "03aab31b",
   "metadata": {},
   "outputs": [
    {
     "name": "stdout",
     "output_type": "stream",
     "text": [
      "The r squared value is: 1.0\n"
     ]
    }
   ],
   "source": [
    "lin_reg=LinearRegression()\n",
    "model=lin_reg.fit(X_train,y_train)\n",
    "prediction=model.predict(X_test)\n",
    "print('The r squared value is:',r2_score(y_test,prediction))"
   ]
  },
  {
   "cell_type": "code",
   "execution_count": 80,
   "id": "c76a84f2",
   "metadata": {},
   "outputs": [],
   "source": [
    "## model building using rfe\n",
    "## rfe with 15 features"
   ]
  },
  {
   "cell_type": "code",
   "execution_count": 81,
   "id": "2dd25743",
   "metadata": {},
   "outputs": [],
   "source": [
    "from sklearn.feature_selection import RFE"
   ]
  },
  {
   "cell_type": "code",
   "execution_count": 82,
   "id": "ad4b006f",
   "metadata": {},
   "outputs": [],
   "source": [
    "lm = LinearRegression()\n",
    "rfe_15 = RFE(lm,n_features_to_select= 15)"
   ]
  },
  {
   "cell_type": "code",
   "execution_count": 83,
   "id": "3a4bba9b",
   "metadata": {},
   "outputs": [
    {
     "name": "stdout",
     "output_type": "stream",
     "text": [
      "[1 1 1 1 1 1]\n"
     ]
    }
   ],
   "source": [
    "rfe_15.fit(X_train, y_train)\n",
    "print(rfe_15.ranking_)"
   ]
  },
  {
   "cell_type": "code",
   "execution_count": 84,
   "id": "45dca544",
   "metadata": {},
   "outputs": [
    {
     "name": "stdout",
     "output_type": "stream",
     "text": [
      "The r squared value is: 1.0\n"
     ]
    }
   ],
   "source": [
    "prediction = rfe_15.predict(X_test)\n",
    "print('The r squared value is:',r2_score(y_test,prediction))"
   ]
  },
  {
   "cell_type": "code",
   "execution_count": 85,
   "id": "9b986e1a",
   "metadata": {},
   "outputs": [],
   "source": [
    "## rfe with 15 feature is giving 100% squared"
   ]
  },
  {
   "cell_type": "code",
   "execution_count": 86,
   "id": "d6e99e09",
   "metadata": {},
   "outputs": [],
   "source": [
    "## using knn regression"
   ]
  },
  {
   "cell_type": "code",
   "execution_count": 87,
   "id": "767eba37",
   "metadata": {},
   "outputs": [],
   "source": [
    "from sklearn.neighbors import KNeighborsRegressor"
   ]
  },
  {
   "cell_type": "code",
   "execution_count": 88,
   "id": "da989bb6",
   "metadata": {},
   "outputs": [
    {
     "name": "stdout",
     "output_type": "stream",
     "text": [
      "The r squared value is: 1.0\n"
     ]
    }
   ],
   "source": [
    "knn = KNeighborsRegressor(n_neighbors=12)\n",
    "knn.fit(X_train, y_train)\n",
    "prediction_knn = knn.predict(X_test)\n",
    "print('The r squared value is:',r2_score(y_test,prediction_knn))"
   ]
  },
  {
   "cell_type": "code",
   "execution_count": 89,
   "id": "3a02e9e0",
   "metadata": {},
   "outputs": [],
   "source": [
    "## using DecisionTreeRegressor"
   ]
  },
  {
   "cell_type": "code",
   "execution_count": 90,
   "id": "d3bace2d",
   "metadata": {},
   "outputs": [
    {
     "name": "stdout",
     "output_type": "stream",
     "text": [
      "1.00\n"
     ]
    }
   ],
   "source": [
    "from sklearn.tree import DecisionTreeRegressor\n",
    "dt_reg = DecisionTreeRegressor(random_state=45,max_depth=15)\n",
    "dt_reg.fit(X_train, y_train)\n",
    "prediction_dt = dt_reg.predict(X_test)\n",
    "mse_dt = r2_score(y_test, prediction_dt)\n",
    "print('{:0.2f}'.format(mse_dt))"
   ]
  },
  {
   "cell_type": "code",
   "execution_count": 91,
   "id": "95466ea7",
   "metadata": {},
   "outputs": [],
   "source": [
    "## here all model is giving 100 % r squared value. so the models are good"
   ]
  },
  {
   "cell_type": "code",
   "execution_count": 92,
   "id": "bcd08cca",
   "metadata": {},
   "outputs": [],
   "source": [
    "## doing random forest algorithm"
   ]
  },
  {
   "cell_type": "code",
   "execution_count": 93,
   "id": "d95303ac",
   "metadata": {},
   "outputs": [
    {
     "name": "stdout",
     "output_type": "stream",
     "text": [
      "1.00\n"
     ]
    }
   ],
   "source": [
    "from sklearn.ensemble import RandomForestRegressor\n",
    "rf_reg = RandomForestRegressor(random_state=45,max_depth=16,n_estimators=300)\n",
    "rf_reg.fit(X_train, y_train)\n",
    "prediction_rf = rf_reg.predict(X_test)\n",
    "mse_rf = r2_score(y_test, prediction_rf)\n",
    "print('{:0.2f}'.format(mse_rf))"
   ]
  },
  {
   "cell_type": "code",
   "execution_count": null,
   "id": "0ccab534",
   "metadata": {},
   "outputs": [],
   "source": []
  },
  {
   "cell_type": "code",
   "execution_count": null,
   "id": "221d605a",
   "metadata": {},
   "outputs": [],
   "source": []
  }
 ],
 "metadata": {
  "kernelspec": {
   "display_name": "Python 3 (ipykernel)",
   "language": "python",
   "name": "python3"
  },
  "language_info": {
   "codemirror_mode": {
    "name": "ipython",
    "version": 3
   },
   "file_extension": ".py",
   "mimetype": "text/x-python",
   "name": "python",
   "nbconvert_exporter": "python",
   "pygments_lexer": "ipython3",
   "version": "3.9.12"
  }
 },
 "nbformat": 4,
 "nbformat_minor": 5
}
